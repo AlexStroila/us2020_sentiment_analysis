{
 "cells": [
  {
   "cell_type": "code",
   "execution_count": 1,
   "metadata": {},
   "outputs": [],
   "source": [
    "import numpy as np\n",
    "import pandas as pd\n",
    "import torch\n",
    "from transformers import AutoTokenizer, AutoModelForSequenceClassification\n",
    "from scipy.special import softmax"
   ]
  },
  {
   "cell_type": "code",
   "execution_count": 2,
   "metadata": {},
   "outputs": [],
   "source": [
    "# Import the cleaned dataset\n",
    "df_trump = pd.read_csv(\"parsed_trump.csv\")\n",
    "df_biden = pd.read_csv(\"parsed_biden.csv\")"
   ]
  },
  {
   "cell_type": "code",
   "execution_count": 3,
   "metadata": {},
   "outputs": [],
   "source": [
    "# Tweet words pre-processing\n",
    "def preprocess_tweets(tweet):\n",
    "    tweet_words = []\n",
    "    \n",
    "    for word in tweet.split():\n",
    "        if word.startswith(\"@\") and len(word) > 1:\n",
    "            word = \"@user\"\n",
    "        elif word.startswith('http'):\n",
    "            word = \"http\"\n",
    "        tweet_words.append(word)\n",
    "    return \" \".join(tweet_words)"
   ]
  },
  {
   "cell_type": "code",
   "execution_count": 4,
   "metadata": {},
   "outputs": [
    {
     "name": "stderr",
     "output_type": "stream",
     "text": [
      "c:\\Users\\Slez\\AppData\\Local\\Programs\\Python\\Python311\\Lib\\site-packages\\huggingface_hub\\file_download.py:1132: FutureWarning: `resume_download` is deprecated and will be removed in version 1.0.0. Downloads always resume when possible. If you want to force a new download, use `force_download=True`.\n",
      "  warnings.warn(\n",
      "c:\\Users\\Slez\\AppData\\Local\\Programs\\Python\\Python311\\Lib\\site-packages\\torch\\_utils.py:831: UserWarning: TypedStorage is deprecated. It will be removed in the future and UntypedStorage will be the only storage class. This should only matter to you if you are using storages directly.  To access UntypedStorage directly, use tensor.untyped_storage() instead of tensor.storage()\n",
      "  return self.fget.__get__(instance, owner)()\n",
      "c:\\Users\\Slez\\AppData\\Local\\Programs\\Python\\Python311\\Lib\\site-packages\\huggingface_hub\\file_download.py:1132: FutureWarning: `resume_download` is deprecated and will be removed in version 1.0.0. Downloads always resume when possible. If you want to force a new download, use `force_download=True`.\n",
      "  warnings.warn(\n"
     ]
    }
   ],
   "source": [
    "# Load the model and the tokenizer\n",
    "roberta = \"cardiffnlp/twitter-roberta-base-sentiment\"\n",
    "\n",
    "model = AutoModelForSequenceClassification.from_pretrained(roberta)\n",
    "tokenizer = AutoTokenizer.from_pretrained(roberta)\n",
    "\n",
    "labels = [\"Negative\", \"Neutral\", \"Positive\"]"
   ]
  },
  {
   "cell_type": "code",
   "execution_count": 1,
   "metadata": {},
   "outputs": [
    {
     "ename": "NameError",
     "evalue": "name 'df_trump' is not defined",
     "output_type": "error",
     "traceback": [
      "\u001b[1;31m---------------------------------------------------------------------------\u001b[0m",
      "\u001b[1;31mNameError\u001b[0m                                 Traceback (most recent call last)",
      "\u001b[1;32md:\\Facultate\\Master\\3rd Semester\\Spatial Econometrics\\Project\\sentiment-analysis.ipynb Cell 5\u001b[0m line \u001b[0;36m1\n\u001b[1;32m----> <a href='vscode-notebook-cell:/d%3A/Facultate/Master/3rd%20Semester/Spatial%20Econometrics/Project/sentiment-analysis.ipynb#W4sZmlsZQ%3D%3D?line=0'>1</a>\u001b[0m df_trump[\u001b[39m\"\u001b[39m\u001b[39mtweet\u001b[39m\u001b[39m\"\u001b[39m] \u001b[39m=\u001b[39m df_trump[\u001b[39m\"\u001b[39m\u001b[39mtweet\u001b[39m\u001b[39m\"\u001b[39m]\u001b[39m.\u001b[39mapply(preprocess_tweets)\n\u001b[0;32m      <a href='vscode-notebook-cell:/d%3A/Facultate/Master/3rd%20Semester/Spatial%20Econometrics/Project/sentiment-analysis.ipynb#W4sZmlsZQ%3D%3D?line=2'>3</a>\u001b[0m \u001b[39mfor\u001b[39;00m index, row \u001b[39min\u001b[39;00m df_trump\u001b[39m.\u001b[39miterrows():\n\u001b[0;32m      <a href='vscode-notebook-cell:/d%3A/Facultate/Master/3rd%20Semester/Spatial%20Econometrics/Project/sentiment-analysis.ipynb#W4sZmlsZQ%3D%3D?line=3'>4</a>\u001b[0m     encoded_tweet \u001b[39m=\u001b[39m tokenizer(row[\u001b[39m'\u001b[39m\u001b[39mtweet\u001b[39m\u001b[39m'\u001b[39m], return_tensors\u001b[39m=\u001b[39m\u001b[39m'\u001b[39m\u001b[39mpt\u001b[39m\u001b[39m'\u001b[39m)\n",
      "\u001b[1;31mNameError\u001b[0m: name 'df_trump' is not defined"
     ]
    }
   ],
   "source": [
    "df_trump[\"tweet\"] = df_trump[\"tweet\"].apply(preprocess_tweets)\n",
    "\n",
    "for index, row in df_trump.iterrows():\n",
    "    encoded_tweet = tokenizer(row['tweet'], return_tensors='pt')\n",
    "    output = model(**encoded_tweet)\n",
    "\n",
    "    scores = output[0][0].detach().numpy()\n",
    "    scores = softmax(scores)\n",
    "\n",
    "    # You might want to store the results back in the dataframe, for example:\n",
    "    for i, score in enumerate(scores):\n",
    "        df_trump.at[index, labels[i]] = score\n",
    "\n",
    "# This will append the scores for each label as new columns in your DataFrame."
   ]
  },
  {
   "cell_type": "code",
   "execution_count": null,
   "metadata": {},
   "outputs": [],
   "source": [
    "# Save the updated DataFrame to a new Excel file in your drive\n",
    "df_trump.to_excel('/content/drive/My Drive/saved_tweets_sentiment_analysis.xlsx', index=False)"
   ]
  }
 ],
 "metadata": {
  "kernelspec": {
   "display_name": "Python 3",
   "language": "python",
   "name": "python3"
  },
  "language_info": {
   "codemirror_mode": {
    "name": "ipython",
    "version": 3
   },
   "file_extension": ".py",
   "mimetype": "text/x-python",
   "name": "python",
   "nbconvert_exporter": "python",
   "pygments_lexer": "ipython3",
   "version": "3.11.3"
  }
 },
 "nbformat": 4,
 "nbformat_minor": 2
}
